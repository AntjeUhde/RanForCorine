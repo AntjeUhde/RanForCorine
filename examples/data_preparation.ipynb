{
 "cells": [
  {
   "cell_type": "code",
   "execution_count": 1,
   "metadata": {},
   "outputs": [],
   "source": [
    "import lc_classif.geodata_handling as gh"
   ]
  },
  {
   "cell_type": "code",
   "execution_count": null,
   "metadata": {},
   "outputs": [],
   "source": [
    "fp_stack=r\"Path\\to\\Sentinel1\\data\"\n",
    "fp_hdr=r\"Path\\to\\Sentinel1\\data.hdr\"\n",
    "fp_mask=r\"Path\\to\\CorineLandCover\\mask.tif\"\n",
    "fp_s1_res=r'Path\\to\\save\\resampled\\Sentinel1'\n",
    "fp_mask_sub=r'Path\\to\\save\\subsetted\\CLC\\mask.tif'\n",
    "fp_csv=r'Path\\to\\save\\splitted\\data.csv'"
   ]
  },
  {
   "cell_type": "code",
   "execution_count": null,
   "metadata": {},
   "outputs": [],
   "source": [
    "# adjust pixel size and extend of S-1 data and mask\n",
    "gh.adjust(fp_stack,fp_mask, epsg=32633, write=True, outfp1=fp_s1_res,\\\n",
    "                    outfp2=fp_mask_sub,hdrfp=fp_hdr,subset=False)"
   ]
  },
  {
   "cell_type": "code",
   "execution_count": null,
   "metadata": {},
   "outputs": [],
   "source": [
    "# split the Sentinel-1 data into the Corine land Cover classes and save the table to disk\n",
    "gh.split_classes(fp_s1_res,fp_mask_sub,fp_csv)"
   ]
  },
  {
   "cell_type": "code",
   "execution_count": null,
   "metadata": {},
   "outputs": [],
   "source": [
    "# create a class distribution plot\n"
   ]
  }
 ],
 "metadata": {
  "kernelspec": {
   "display_name": "Python 3",
   "language": "python",
   "name": "python3"
  },
  "language_info": {
   "codemirror_mode": {
    "name": "ipython",
    "version": 3
   },
   "file_extension": ".py",
   "mimetype": "text/x-python",
   "name": "python",
   "nbconvert_exporter": "python",
   "pygments_lexer": "ipython3",
   "version": "3.7.6"
  }
 },
 "nbformat": 4,
 "nbformat_minor": 2
}
